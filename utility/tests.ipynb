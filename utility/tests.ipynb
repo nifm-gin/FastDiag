{
 "cells": [
  {
   "cell_type": "code",
   "execution_count": null,
   "metadata": {},
   "outputs": [],
   "source": [
    "import get_outcomes"
   ]
  },
  {
   "cell_type": "code",
   "execution_count": null,
   "metadata": {},
   "outputs": [
    {
     "name": "stdout",
     "output_type": "stream",
     "text": [
      "    name  tier_bin\n",
      "0  P0000         0\n",
      "1  P0001         0\n",
      "2  P0002         0\n",
      "3  P0003         0\n",
      "4  P0004         0\n",
      "Outcome events : 34\n"
     ]
    },
    {
     "data": {
      "text/html": [
       "<div>\n",
       "<style scoped>\n",
       "    .dataframe tbody tr th:only-of-type {\n",
       "        vertical-align: middle;\n",
       "    }\n",
       "\n",
       "    .dataframe tbody tr th {\n",
       "        vertical-align: top;\n",
       "    }\n",
       "\n",
       "    .dataframe thead th {\n",
       "        text-align: right;\n",
       "    }\n",
       "</style>\n",
       "<table border=\"1\" class=\"dataframe\">\n",
       "  <thead>\n",
       "    <tr style=\"text-align: right;\">\n",
       "      <th></th>\n",
       "      <th>name</th>\n",
       "      <th>tier_bin</th>\n",
       "    </tr>\n",
       "  </thead>\n",
       "  <tbody>\n",
       "    <tr>\n",
       "      <th>0</th>\n",
       "      <td>P0000</td>\n",
       "      <td>0</td>\n",
       "    </tr>\n",
       "    <tr>\n",
       "      <th>1</th>\n",
       "      <td>P0001</td>\n",
       "      <td>0</td>\n",
       "    </tr>\n",
       "    <tr>\n",
       "      <th>2</th>\n",
       "      <td>P0002</td>\n",
       "      <td>0</td>\n",
       "    </tr>\n",
       "    <tr>\n",
       "      <th>3</th>\n",
       "      <td>P0003</td>\n",
       "      <td>0</td>\n",
       "    </tr>\n",
       "    <tr>\n",
       "      <th>4</th>\n",
       "      <td>P0004</td>\n",
       "      <td>0</td>\n",
       "    </tr>\n",
       "    <tr>\n",
       "      <th>...</th>\n",
       "      <td>...</td>\n",
       "      <td>...</td>\n",
       "    </tr>\n",
       "    <tr>\n",
       "      <th>561</th>\n",
       "      <td>P0562</td>\n",
       "      <td>0</td>\n",
       "    </tr>\n",
       "    <tr>\n",
       "      <th>562</th>\n",
       "      <td>P0563</td>\n",
       "      <td>0</td>\n",
       "    </tr>\n",
       "    <tr>\n",
       "      <th>563</th>\n",
       "      <td>P0564</td>\n",
       "      <td>0</td>\n",
       "    </tr>\n",
       "    <tr>\n",
       "      <th>564</th>\n",
       "      <td>P0565</td>\n",
       "      <td>0</td>\n",
       "    </tr>\n",
       "    <tr>\n",
       "      <th>565</th>\n",
       "      <td>P0566</td>\n",
       "      <td>0</td>\n",
       "    </tr>\n",
       "  </tbody>\n",
       "</table>\n",
       "<p>566 rows × 2 columns</p>\n",
       "</div>"
      ],
      "text/plain": [
       "      name  tier_bin\n",
       "0    P0000         0\n",
       "1    P0001         0\n",
       "2    P0002         0\n",
       "3    P0003         0\n",
       "4    P0004         0\n",
       "..     ...       ...\n",
       "561  P0562         0\n",
       "562  P0563         0\n",
       "563  P0564         0\n",
       "564  P0565         0\n",
       "565  P0566         0\n",
       "\n",
       "[566 rows x 2 columns]"
      ]
     },
     "execution_count": 2,
     "metadata": {},
     "output_type": "execute_result"
    }
   ],
   "source": [
    "get_outcomes.get_tier()"
   ]
  },
  {
   "cell_type": "code",
   "execution_count": null,
   "metadata": {},
   "outputs": [
    {
     "name": "stdout",
     "output_type": "stream",
     "text": [
      "    name  TIL 0  TIL 1  TIL 2  TIL 3 TIL 4\n",
      "1  P0001    0.0    0.0    0.0    0.0     0\n",
      "2  P0002    0.0    0.0    0.0    0.0     0\n",
      "3  P0003    0.0    0.0    0.0    0.0     0\n",
      "4  P0004    0.0    0.0    0.0    0.0     0\n",
      "5  P0005    0.0    0.0    0.0    0.0     0\n",
      "    name  TIL_bin\n",
      "1  P0001        0\n",
      "2  P0002        0\n",
      "3  P0003        0\n",
      "4  P0004        0\n",
      "5  P0005        0\n",
      "Outcome events: 46\n"
     ]
    }
   ],
   "source": [
    "get_outcomes.get_til()"
   ]
  },
  {
   "cell_type": "code",
   "execution_count": null,
   "metadata": {},
   "outputs": [
    {
     "name": "stdout",
     "output_type": "stream",
     "text": [
      "    name                          GOSE J30\n",
      "0  P0000  8 Upper Good Recovery (Upper GR)\n",
      "1  P0001  8 Upper Good Recovery (Upper GR)\n",
      "2  P0002                               NaN\n",
      "3  P0003                                nd\n",
      "4  P0004  8 Upper Good Recovery (Upper GR)\n",
      "Nombre de 1 : 45\n",
      "Nombre de 0 : 496\n",
      "Nombre de NaN : 24\n",
      "    name  mortality\n",
      "1  P0001          0\n",
      "2  P0002          0\n",
      "3  P0003          0\n",
      "4  P0004          0\n",
      "5  P0005          0\n",
      "Outcome events : 45\n"
     ]
    },
    {
     "data": {
      "text/html": [
       "<div>\n",
       "<style scoped>\n",
       "    .dataframe tbody tr th:only-of-type {\n",
       "        vertical-align: middle;\n",
       "    }\n",
       "\n",
       "    .dataframe tbody tr th {\n",
       "        vertical-align: top;\n",
       "    }\n",
       "\n",
       "    .dataframe thead th {\n",
       "        text-align: right;\n",
       "    }\n",
       "</style>\n",
       "<table border=\"1\" class=\"dataframe\">\n",
       "  <thead>\n",
       "    <tr style=\"text-align: right;\">\n",
       "      <th></th>\n",
       "      <th>name</th>\n",
       "      <th>mortality</th>\n",
       "    </tr>\n",
       "  </thead>\n",
       "  <tbody>\n",
       "    <tr>\n",
       "      <th>1</th>\n",
       "      <td>P0001</td>\n",
       "      <td>0</td>\n",
       "    </tr>\n",
       "    <tr>\n",
       "      <th>2</th>\n",
       "      <td>P0002</td>\n",
       "      <td>0</td>\n",
       "    </tr>\n",
       "    <tr>\n",
       "      <th>3</th>\n",
       "      <td>P0003</td>\n",
       "      <td>0</td>\n",
       "    </tr>\n",
       "    <tr>\n",
       "      <th>4</th>\n",
       "      <td>P0004</td>\n",
       "      <td>0</td>\n",
       "    </tr>\n",
       "    <tr>\n",
       "      <th>5</th>\n",
       "      <td>P0005</td>\n",
       "      <td>0</td>\n",
       "    </tr>\n",
       "    <tr>\n",
       "      <th>...</th>\n",
       "      <td>...</td>\n",
       "      <td>...</td>\n",
       "    </tr>\n",
       "    <tr>\n",
       "      <th>561</th>\n",
       "      <td>P0562</td>\n",
       "      <td>0</td>\n",
       "    </tr>\n",
       "    <tr>\n",
       "      <th>562</th>\n",
       "      <td>P0563</td>\n",
       "      <td>0</td>\n",
       "    </tr>\n",
       "    <tr>\n",
       "      <th>563</th>\n",
       "      <td>P0564</td>\n",
       "      <td>0</td>\n",
       "    </tr>\n",
       "    <tr>\n",
       "      <th>564</th>\n",
       "      <td>P0565</td>\n",
       "      <td>0</td>\n",
       "    </tr>\n",
       "    <tr>\n",
       "      <th>565</th>\n",
       "      <td>P0566</td>\n",
       "      <td>0</td>\n",
       "    </tr>\n",
       "  </tbody>\n",
       "</table>\n",
       "<p>565 rows × 2 columns</p>\n",
       "</div>"
      ],
      "text/plain": [
       "      name  mortality\n",
       "1    P0001          0\n",
       "2    P0002          0\n",
       "3    P0003          0\n",
       "4    P0004          0\n",
       "5    P0005          0\n",
       "..     ...        ...\n",
       "561  P0562          0\n",
       "562  P0563          0\n",
       "563  P0564          0\n",
       "564  P0565          0\n",
       "565  P0566          0\n",
       "\n",
       "[565 rows x 2 columns]"
      ]
     },
     "execution_count": 2,
     "metadata": {},
     "output_type": "execute_result"
    }
   ],
   "source": [
    "get_outcomes.get_gose_30d()"
   ]
  },
  {
   "cell_type": "code",
   "execution_count": null,
   "metadata": {},
   "outputs": [
    {
     "name": "stdout",
     "output_type": "stream",
     "text": [
      "    name mortalité J7\n",
      "0  P0000            0\n",
      "1  P0001            0\n",
      "2  P0002            0\n",
      "3  P0003            0\n",
      "4  P0004            0\n",
      "    name  mortality\n",
      "0  P0000          0\n",
      "1  P0001          0\n",
      "2  P0002          0\n",
      "3  P0003          0\n",
      "4  P0004          0\n",
      "Outcome events : 27\n"
     ]
    },
    {
     "name": "stderr",
     "output_type": "stream",
     "text": [
      "/data_local/data_ssd/fehrdelt/FastDiag/data_preprocessing_outcomes.py:89: FutureWarning: Downcasting behavior in `replace` is deprecated and will be removed in a future version. To retain the old behavior, explicitly call `result.infer_objects(copy=False)`. To opt-in to the future behavior, set `pd.set_option('future.no_silent_downcasting', True)`\n",
      "  data[col] = data[col].replace({'1': 1, '0': 0, 'nd': np.nan}).astype(float)\n"
     ]
    }
   ],
   "source": [
    "get_outcomes.get_mortality_7d().to_csv(\"data/test_mortality_7D.csv\")"
   ]
  },
  {
   "cell_type": "code",
   "execution_count": null,
   "metadata": {},
   "outputs": [
    {
     "name": "stdout",
     "output_type": "stream",
     "text": [
      "    name mortalité J7 mortalité J30\n",
      "0  P0000            0             0\n",
      "1  P0001            0             0\n",
      "2  P0002            0             0\n",
      "3  P0003            0            nd\n",
      "4  P0004            0             0\n",
      "    name  mortality\n",
      "0  P0000          0\n",
      "1  P0001          0\n",
      "2  P0002          0\n",
      "3  P0003          0\n",
      "4  P0004          0\n",
      "Outcome events : 31\n"
     ]
    },
    {
     "name": "stderr",
     "output_type": "stream",
     "text": [
      "/data_local/data_ssd/fehrdelt/FastDiag/data_preprocessing_outcomes.py:94: FutureWarning: Downcasting behavior in `replace` is deprecated and will be removed in a future version. To retain the old behavior, explicitly call `result.infer_objects(copy=False)`. To opt-in to the future behavior, set `pd.set_option('future.no_silent_downcasting', True)`\n",
      "  data[col] = data[col].replace({'1': 1, '0': 0, 'nd': np.nan}).astype(float)\n",
      "/data_local/data_ssd/fehrdelt/FastDiag/data_preprocessing_outcomes.py:94: FutureWarning: Downcasting behavior in `replace` is deprecated and will be removed in a future version. To retain the old behavior, explicitly call `result.infer_objects(copy=False)`. To opt-in to the future behavior, set `pd.set_option('future.no_silent_downcasting', True)`\n",
      "  data[col] = data[col].replace({'1': 1, '0': 0, 'nd': np.nan}).astype(float)\n"
     ]
    },
    {
     "data": {
      "text/html": [
       "<div>\n",
       "<style scoped>\n",
       "    .dataframe tbody tr th:only-of-type {\n",
       "        vertical-align: middle;\n",
       "    }\n",
       "\n",
       "    .dataframe tbody tr th {\n",
       "        vertical-align: top;\n",
       "    }\n",
       "\n",
       "    .dataframe thead th {\n",
       "        text-align: right;\n",
       "    }\n",
       "</style>\n",
       "<table border=\"1\" class=\"dataframe\">\n",
       "  <thead>\n",
       "    <tr style=\"text-align: right;\">\n",
       "      <th></th>\n",
       "      <th>name</th>\n",
       "      <th>mortality</th>\n",
       "    </tr>\n",
       "  </thead>\n",
       "  <tbody>\n",
       "    <tr>\n",
       "      <th>0</th>\n",
       "      <td>P0000</td>\n",
       "      <td>0</td>\n",
       "    </tr>\n",
       "    <tr>\n",
       "      <th>1</th>\n",
       "      <td>P0001</td>\n",
       "      <td>0</td>\n",
       "    </tr>\n",
       "    <tr>\n",
       "      <th>2</th>\n",
       "      <td>P0002</td>\n",
       "      <td>0</td>\n",
       "    </tr>\n",
       "    <tr>\n",
       "      <th>3</th>\n",
       "      <td>P0003</td>\n",
       "      <td>0</td>\n",
       "    </tr>\n",
       "    <tr>\n",
       "      <th>4</th>\n",
       "      <td>P0004</td>\n",
       "      <td>0</td>\n",
       "    </tr>\n",
       "    <tr>\n",
       "      <th>...</th>\n",
       "      <td>...</td>\n",
       "      <td>...</td>\n",
       "    </tr>\n",
       "    <tr>\n",
       "      <th>561</th>\n",
       "      <td>P0562</td>\n",
       "      <td>0</td>\n",
       "    </tr>\n",
       "    <tr>\n",
       "      <th>562</th>\n",
       "      <td>P0563</td>\n",
       "      <td>0</td>\n",
       "    </tr>\n",
       "    <tr>\n",
       "      <th>563</th>\n",
       "      <td>P0564</td>\n",
       "      <td>0</td>\n",
       "    </tr>\n",
       "    <tr>\n",
       "      <th>564</th>\n",
       "      <td>P0565</td>\n",
       "      <td>0</td>\n",
       "    </tr>\n",
       "    <tr>\n",
       "      <th>565</th>\n",
       "      <td>P0566</td>\n",
       "      <td>0</td>\n",
       "    </tr>\n",
       "  </tbody>\n",
       "</table>\n",
       "<p>566 rows × 2 columns</p>\n",
       "</div>"
      ],
      "text/plain": [
       "      name  mortality\n",
       "0    P0000          0\n",
       "1    P0001          0\n",
       "2    P0002          0\n",
       "3    P0003          0\n",
       "4    P0004          0\n",
       "..     ...        ...\n",
       "561  P0562          0\n",
       "562  P0563          0\n",
       "563  P0564          0\n",
       "564  P0565          0\n",
       "565  P0566          0\n",
       "\n",
       "[566 rows x 2 columns]"
      ]
     },
     "execution_count": 2,
     "metadata": {},
     "output_type": "execute_result"
    }
   ],
   "source": [
    "get_outcomes.get_mortality_30d()"
   ]
  },
  {
   "cell_type": "code",
   "execution_count": null,
   "metadata": {},
   "outputs": [
    {
     "name": "stdout",
     "output_type": "stream",
     "text": [
      "    name                       GOSE 6 mois\n",
      "0  P0000  8 Upper Good Recovery (Upper GR)\n",
      "1  P0001  8 Upper Good Recovery (Upper GR)\n",
      "2  P0002                               max\n",
      "3  P0003                                nd\n",
      "4  P0004  8 Upper Good Recovery (Upper GR)\n",
      "Nombre de 1 : 37\n",
      "Nombre de 0 : 495\n",
      "Nombre de NaN : 33\n",
      "    name  mortality\n",
      "1  P0001          0\n",
      "2  P0002          0\n",
      "3  P0003          0\n",
      "4  P0004          0\n",
      "5  P0005          0\n",
      "Outcome events : 37\n"
     ]
    }
   ],
   "source": [
    "get_outcomes.get_gose_6m()"
   ]
  },
  {
   "cell_type": "code",
   "execution_count": null,
   "metadata": {},
   "outputs": [
    {
     "name": "stdout",
     "output_type": "stream",
     "text": [
      "    name  mortality\n",
      "0  P0000          0\n",
      "1  P0001          0\n",
      "2  P0002          0\n",
      "3  P0003          0\n",
      "4  P0004          0\n",
      "Outcome events : 33\n"
     ]
    },
    {
     "name": "stderr",
     "output_type": "stream",
     "text": [
      "/home/theotime/Documents/1/FastDiag/data_preprocessing.py:47: FutureWarning: Downcasting behavior in `replace` is deprecated and will be removed in a future version. To retain the old behavior, explicitly call `result.infer_objects(copy=False)`. To opt-in to the future behavior, set `pd.set_option('future.no_silent_downcasting', True)`\n",
      "  data[col] = data[col].replace({'1': 1, '0': 0, 'nd': np.nan, '8 Upper Good Recovery (Upper GR)': np.nan}).astype(float)\n",
      "/home/theotime/Documents/1/FastDiag/data_preprocessing.py:47: FutureWarning: Downcasting behavior in `replace` is deprecated and will be removed in a future version. To retain the old behavior, explicitly call `result.infer_objects(copy=False)`. To opt-in to the future behavior, set `pd.set_option('future.no_silent_downcasting', True)`\n",
      "  data[col] = data[col].replace({'1': 1, '0': 0, 'nd': np.nan, '8 Upper Good Recovery (Upper GR)': np.nan}).astype(float)\n",
      "/home/theotime/Documents/1/FastDiag/data_preprocessing.py:47: FutureWarning: Downcasting behavior in `replace` is deprecated and will be removed in a future version. To retain the old behavior, explicitly call `result.infer_objects(copy=False)`. To opt-in to the future behavior, set `pd.set_option('future.no_silent_downcasting', True)`\n",
      "  data[col] = data[col].replace({'1': 1, '0': 0, 'nd': np.nan, '8 Upper Good Recovery (Upper GR)': np.nan}).astype(float)\n"
     ]
    }
   ],
   "source": [
    "get_outcomes.get_mortality_6m()"
   ]
  },
  {
   "cell_type": "code",
   "execution_count": null,
   "metadata": {},
   "outputs": [
    {
     "name": "stdout",
     "output_type": "stream",
     "text": [
      "    name  TIL 0  TIL 1  TIL 2  TIL 3 TIL 4\n",
      "1  P0001    0.0    0.0    0.0    0.0     0\n",
      "2  P0002    0.0    0.0    0.0    0.0     0\n",
      "3  P0003    0.0    0.0    0.0    0.0     0\n",
      "4  P0004    0.0    0.0    0.0    0.0     0\n",
      "5  P0005    0.0    0.0    0.0    0.0     0\n"
     ]
    }
   ],
   "source": [
    "get_outcomes.get_til()"
   ]
  },
  {
   "cell_type": "code",
   "execution_count": null,
   "metadata": {},
   "outputs": [],
   "source": []
  }
 ],
 "metadata": {
  "kernelspec": {
   "display_name": "general_env",
   "language": "python",
   "name": "general_env"
  },
  "language_info": {
   "codemirror_mode": {
    "name": "ipython",
    "version": 3
   },
   "file_extension": ".py",
   "mimetype": "text/x-python",
   "name": "python",
   "nbconvert_exporter": "python",
   "pygments_lexer": "ipython3",
   "version": "3.10.12"
  }
 },
 "nbformat": 4,
 "nbformat_minor": 2
}
