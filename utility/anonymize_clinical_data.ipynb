{
 "cells": [
  {
   "cell_type": "code",
   "execution_count": null,
   "metadata": {},
   "outputs": [],
   "source": [
    "import pandas as pd"
   ]
  },
  {
   "cell_type": "code",
   "execution_count": null,
   "metadata": {},
   "outputs": [],
   "source": [
    "shanoir_import_df = pd.read_csv(\"data/shanoir_import_full.csv\", header=None)\n",
    "shanoir_import_df.head()\n",
    "\n",
    "# Select the first and fifth columns\n",
    "shanoir_import_filtered = shanoir_import_df.iloc[:, [0, 5]]\n",
    "\n",
    "# Rename the columns\n",
    "shanoir_import_filtered.columns = ['IPP', 'name']\n",
    "\n",
    "shanoir_import_filtered = shanoir_import_filtered.copy()\n",
    "shanoir_import_filtered['IPP'] = shanoir_import_filtered['IPP'].astype(object)\n",
    "shanoir_import_filtered['IPP'] = shanoir_import_filtered['IPP'].astype(int)"
   ]
  },
  {
   "cell_type": "code",
   "execution_count": null,
   "metadata": {},
   "outputs": [],
   "source": [
    "shanoir_import_filtered.head()"
   ]
  },
  {
   "cell_type": "code",
   "execution_count": null,
   "metadata": {},
   "outputs": [],
   "source": [
    "clinical_data_df = pd.read_csv(\"data/cleaned_data_full.csv\", skiprows=1)\n",
    "clinical_data_df = pd.read_csv(\"data/cleaned_data_full.csv\", skiprows=1).drop(columns=[\"Unnamed: 0\", \"Nom\", \"Prénom\"])\n",
    "clinical_data_df = clinical_data_df[clinical_data_df[\"IPP\"].notna()]\n",
    "clinical_data_df['IPP'] = clinical_data_df['IPP'].astype(int)\n",
    "clinical_data_df.head()"
   ]
  },
  {
   "cell_type": "code",
   "execution_count": null,
   "metadata": {},
   "outputs": [],
   "source": [
    "merged_data = pd.merge(\n",
    "    clinical_data_df,\n",
    "    shanoir_import_filtered,\n",
    "    on='IPP',\n",
    "    how='inner'\n",
    ")\n",
    "merged_data_anonymized = merged_data.drop(columns=[\"IPP\"])\n",
    "merged_data_anonymized.head()"
   ]
  },
  {
   "cell_type": "code",
   "execution_count": null,
   "metadata": {},
   "outputs": [],
   "source": [
    "merged_data_anonymized = merged_data_anonymized[ ['name'] + [ col for col in merged_data_anonymized.columns if col != 'name' ] ]\n"
   ]
  },
  {
   "cell_type": "code",
   "execution_count": null,
   "metadata": {},
   "outputs": [],
   "source": [
    "merged_data_anonymized.to_csv(\"data/clinical_data_anonymized.csv\")"
   ]
  },
  {
   "cell_type": "markdown",
   "metadata": {},
   "source": []
  }
 ],
 "metadata": {
  "kernelspec": {
   "display_name": "Python 3 (ipykernel)",
   "language": "python",
   "name": "python3"
  },
  "language_info": {
   "codemirror_mode": {
    "name": "ipython",
    "version": 3
   },
   "file_extension": ".py",
   "mimetype": "text/x-python",
   "name": "python",
   "nbconvert_exporter": "python",
   "pygments_lexer": "ipython3",
   "version": "3.12.2"
  }
 },
 "nbformat": 4,
 "nbformat_minor": 2
}
